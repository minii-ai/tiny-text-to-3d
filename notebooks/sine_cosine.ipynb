{
 "cells": [
  {
   "cell_type": "code",
   "execution_count": 1,
   "metadata": {},
   "outputs": [],
   "source": [
    "%load_ext autoreload\n",
    "%autoreload 2"
   ]
  },
  {
   "cell_type": "code",
   "execution_count": 2,
   "metadata": {},
   "outputs": [],
   "source": [
    "import sys\n",
    "sys.path.append(\"..\")\n",
    "\n",
    "import torch\n",
    "import matplotlib.pyplot as plt\n",
    "from torch.utils.data import DataLoader\n",
    "from datasets import SineCosineDataset\n",
    "from tiny.utils import visualize_point_cloud\n",
    "from tiny import Diffusion, PointCloudDDPM, PointCloudDiffusionTrainer, UnconditionalPointCloudDiT"
   ]
  },
  {
   "cell_type": "code",
   "execution_count": 3,
   "metadata": {},
   "outputs": [],
   "source": [
    "dataset = SineCosineDataset(type=\"both\")"
   ]
  },
  {
   "cell_type": "code",
   "execution_count": 4,
   "metadata": {},
   "outputs": [
    {
     "data": {
      "text/plain": [
       "{'data': tensor([[-3.1416e+00,  8.7423e-08],\n",
       "         [-3.0419e+00, -9.9568e-02],\n",
       "         [-2.9421e+00, -1.9815e-01],\n",
       "         [-2.8424e+00, -2.9476e-01],\n",
       "         [-2.7427e+00, -3.8843e-01],\n",
       "         [-2.6429e+00, -4.7825e-01],\n",
       "         [-2.5432e+00, -5.6332e-01],\n",
       "         [-2.4435e+00, -6.4279e-01],\n",
       "         [-2.3437e+00, -7.1587e-01],\n",
       "         [-2.2440e+00, -7.8183e-01],\n",
       "         [-2.1443e+00, -8.4003e-01],\n",
       "         [-2.0445e+00, -8.8987e-01],\n",
       "         [-1.9448e+00, -9.3087e-01],\n",
       "         [-1.8451e+00, -9.6262e-01],\n",
       "         [-1.7453e+00, -9.8481e-01],\n",
       "         [-1.6456e+00, -9.9720e-01],\n",
       "         [-1.5459e+00, -9.9969e-01],\n",
       "         [-1.4461e+00, -9.9224e-01],\n",
       "         [-1.3464e+00, -9.7493e-01],\n",
       "         [-1.2467e+00, -9.4793e-01],\n",
       "         [-1.1469e+00, -9.1151e-01],\n",
       "         [-1.0472e+00, -8.6603e-01],\n",
       "         [-9.4746e-01, -8.1194e-01],\n",
       "         [-8.4773e-01, -7.4978e-01],\n",
       "         [-7.4800e-01, -6.8017e-01],\n",
       "         [-6.4827e-01, -6.0380e-01],\n",
       "         [-5.4853e-01, -5.2144e-01],\n",
       "         [-4.4880e-01, -4.3388e-01],\n",
       "         [-3.4907e-01, -3.4202e-01],\n",
       "         [-2.4933e-01, -2.4676e-01],\n",
       "         [-1.4960e-01, -1.4904e-01],\n",
       "         [-4.9867e-02, -4.9846e-02],\n",
       "         [ 4.9867e-02,  4.9846e-02],\n",
       "         [ 1.4960e-01,  1.4904e-01],\n",
       "         [ 2.4933e-01,  2.4676e-01],\n",
       "         [ 3.4907e-01,  3.4202e-01],\n",
       "         [ 4.4880e-01,  4.3388e-01],\n",
       "         [ 5.4853e-01,  5.2144e-01],\n",
       "         [ 6.4827e-01,  6.0380e-01],\n",
       "         [ 7.4800e-01,  6.8017e-01],\n",
       "         [ 8.4773e-01,  7.4978e-01],\n",
       "         [ 9.4746e-01,  8.1194e-01],\n",
       "         [ 1.0472e+00,  8.6603e-01],\n",
       "         [ 1.1469e+00,  9.1151e-01],\n",
       "         [ 1.2467e+00,  9.4793e-01],\n",
       "         [ 1.3464e+00,  9.7493e-01],\n",
       "         [ 1.4461e+00,  9.9224e-01],\n",
       "         [ 1.5459e+00,  9.9969e-01],\n",
       "         [ 1.6456e+00,  9.9720e-01],\n",
       "         [ 1.7453e+00,  9.8481e-01],\n",
       "         [ 1.8451e+00,  9.6262e-01],\n",
       "         [ 1.9448e+00,  9.3087e-01],\n",
       "         [ 2.0445e+00,  8.8987e-01],\n",
       "         [ 2.1443e+00,  8.4003e-01],\n",
       "         [ 2.2440e+00,  7.8183e-01],\n",
       "         [ 2.3437e+00,  7.1587e-01],\n",
       "         [ 2.4435e+00,  6.4279e-01],\n",
       "         [ 2.5432e+00,  5.6332e-01],\n",
       "         [ 2.6429e+00,  4.7825e-01],\n",
       "         [ 2.7427e+00,  3.8843e-01],\n",
       "         [ 2.8424e+00,  2.9476e-01],\n",
       "         [ 2.9421e+00,  1.9815e-01],\n",
       "         [ 3.0419e+00,  9.9568e-02],\n",
       "         [ 3.1416e+00, -8.7423e-08]]),\n",
       " 'label': 0,\n",
       " 'text': 'sine'}"
      ]
     },
     "execution_count": 4,
     "metadata": {},
     "output_type": "execute_result"
    }
   ],
   "source": [
    "dataset[0]"
   ]
  },
  {
   "cell_type": "code",
   "execution_count": 5,
   "metadata": {},
   "outputs": [],
   "source": [
    "diffusion = Diffusion(schedule_type=\"cosine\", num_timesteps=250, learn_sigma=False)\n",
    "dit = UnconditionalPointCloudDiT(input_size=64, in_channels=2, depth=4, num_heads=4, hidden_size=128)\n",
    "ddpm = PointCloudDDPM(dit, diffusion)"
   ]
  },
  {
   "cell_type": "code",
   "execution_count": 6,
   "metadata": {},
   "outputs": [],
   "source": [
    "dataloader = DataLoader(dataset, collate_fn=dataset.collate, batch_size=1)"
   ]
  },
  {
   "cell_type": "code",
   "execution_count": 7,
   "metadata": {},
   "outputs": [],
   "source": [
    "trainer = PointCloudDiffusionTrainer(\n",
    "    ddpm,\n",
    "    dataloader,\n",
    "    num_epochs=1000,\n",
    "    lr=1e-5\n",
    ")"
   ]
  },
  {
   "cell_type": "code",
   "execution_count": 8,
   "metadata": {},
   "outputs": [
    {
     "name": "stderr",
     "output_type": "stream",
     "text": [
      "100%|██████████| 2000/2000 [00:18<00:00, 110.79it/s, loss=0.0968]\n"
     ]
    }
   ],
   "source": [
    "trainer.train()"
   ]
  },
  {
   "cell_type": "code",
   "execution_count": 9,
   "metadata": {},
   "outputs": [
    {
     "data": {
      "image/png": "[encoded data removed]",
      "text/plain": [
       "<Figure size 640x480 with 1 Axes>"
      ]
     },
     "metadata": {},
     "output_type": "display_data"
    }
   ],
   "source": [
    "visualize_point_cloud(dataset[0][\"data\"])"
   ]
  },
  {
   "cell_type": "code",
   "execution_count": null,
   "metadata": {},
   "outputs": [],
   "source": []
  }
 ],
 "metadata": {
  "kernelspec": {
   "display_name": "tiny-text-to-3d-c32y3Mwx-py3.10",
   "language": "python",
   "name": "python3"
  },
  "language_info": {
   "codemirror_mode": {
    "name": "ipython",
    "version": 3
   },
   "file_extension": ".py",
   "mimetype": "text/x-python",
   "name": "python",
   "nbconvert_exporter": "python",
   "pygments_lexer": "ipython3",
   "version": "3.10.10"
  }
 },
 "nbformat": 4,
 "nbformat_minor": 2
}
