{
 "cells": [
  {
   "cell_type": "code",
   "execution_count": 1,
   "metadata": {},
   "outputs": [],
   "source": [
    "%load_ext autoreload\n",
    "%autoreload 2"
   ]
  },
  {
   "cell_type": "code",
   "execution_count": 2,
   "metadata": {},
   "outputs": [],
   "source": [
    "import torch\n",
    "import sys\n",
    "sys.path.append(\"..\")\n",
    "\n",
    "from mini_3d.dit import TimestepEmbedding, PointCloudDiT, DiTBlock"
   ]
  },
  {
   "cell_type": "code",
   "execution_count": 3,
   "metadata": {},
   "outputs": [],
   "source": [
    "device = \"cuda\" if torch.cuda.is_available() else \"cpu\""
   ]
  },
  {
   "cell_type": "code",
   "execution_count": 4,
   "metadata": {},
   "outputs": [],
   "source": [
    "time_embed = TimestepEmbedding(128).to(device)"
   ]
  },
  {
   "cell_type": "code",
   "execution_count": 20,
   "metadata": {},
   "outputs": [],
   "source": [
    "t = torch.tensor([1., 2.], device=device)"
   ]
  },
  {
   "cell_type": "code",
   "execution_count": 21,
   "metadata": {},
   "outputs": [
    {
     "data": {
      "text/plain": [
       "torch.Size([2, 128])"
      ]
     },
     "execution_count": 21,
     "metadata": {},
     "output_type": "execute_result"
    }
   ],
   "source": [
    "time_embed(t).shape"
   ]
  },
  {
   "cell_type": "code",
   "execution_count": 22,
   "metadata": {},
   "outputs": [],
   "source": [
    "x = torch.randn(2, 32, 1, device=device) # (B, L, C)\n",
    "cond = torch.randn(2, 64, device=device) # (B, c_d)"
   ]
  },
  {
   "cell_type": "code",
   "execution_count": 33,
   "metadata": {},
   "outputs": [],
   "source": [
    "dit = PointCloudDiT(\n",
    "    input_size=32,\n",
    "    in_channels=1,\n",
    "    depth=1,\n",
    "    hidden_size=128,\n",
    "    num_heads=1,\n",
    "    cond_embedding_dim=64,\n",
    "    learn_sigma=True\n",
    ").to(device)"
   ]
  },
  {
   "cell_type": "code",
   "execution_count": 40,
   "metadata": {},
   "outputs": [
    {
     "data": {
      "text/plain": [
       "torch.Size([2, 32, 2])"
      ]
     },
     "execution_count": 40,
     "metadata": {},
     "output_type": "execute_result"
    }
   ],
   "source": [
    "dit(x, t, cond).shape"
   ]
  },
  {
   "cell_type": "code",
   "execution_count": 15,
   "metadata": {},
   "outputs": [],
   "source": [
    "x = torch.randn(1, 32, 128)\n",
    "t = torch.randn(1, 128)\n",
    "cond = torch.randn(1, 128)\n",
    "c = t + cond\n",
    "\n",
    "block = DiTBlock(128, 2, 4)"
   ]
  },
  {
   "cell_type": "code",
   "execution_count": 11,
   "metadata": {},
   "outputs": [
    {
     "name": "stdout",
     "output_type": "stream",
     "text": [
      "torch.Size([1, 32, 128]) torch.Size([1, 128]) torch.Size([1, 128])\n",
      "torch.Size([1, 32, 128]) torch.Size([1, 128]) torch.Size([1, 128])\n"
     ]
    },
    {
     "data": {
      "text/plain": [
       "tensor([[[ 0.8340,  0.0030, -1.8141,  ...,  0.7217, -0.9198,  1.3996],\n",
       "         [ 1.2596,  0.3833, -0.9502,  ..., -0.3149,  0.1534,  1.0109],\n",
       "         [-0.9155,  1.4235, -0.4735,  ...,  1.3579,  0.8431,  1.6255],\n",
       "         ...,\n",
       "         [-0.8625, -0.9844, -0.9136,  ...,  0.9911, -1.6650,  0.0417],\n",
       "         [-0.4411, -0.7082, -0.3608,  ..., -0.3520,  0.2618,  1.3260],\n",
       "         [-0.6733, -1.1413,  0.9351,  ...,  0.8872, -1.5286,  0.2656]]],\n",
       "       grad_fn=<AddBackward0>)"
      ]
     },
     "execution_count": 11,
     "metadata": {},
     "output_type": "execute_result"
    }
   ],
   "source": [
    "block(x, c)"
   ]
  },
  {
   "cell_type": "code",
   "execution_count": null,
   "metadata": {},
   "outputs": [],
   "source": []
  }
 ],
 "metadata": {
  "kernelspec": {
   "display_name": "tiny-text-to-3d-c32y3Mwx-py3.10",
   "language": "python",
   "name": "python3"
  },
  "language_info": {
   "codemirror_mode": {
    "name": "ipython",
    "version": 3
   },
   "file_extension": ".py",
   "mimetype": "text/x-python",
   "name": "python",
   "nbconvert_exporter": "python",
   "pygments_lexer": "ipython3",
   "version": "3.10.10"
  }
 },
 "nbformat": 4,
 "nbformat_minor": 2
}
